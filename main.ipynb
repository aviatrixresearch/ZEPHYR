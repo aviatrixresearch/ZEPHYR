{
 "cells": [
  {
   "cell_type": "code",
   "execution_count": 10,
   "metadata": {},
   "outputs": [
    {
     "ename": "NameError",
     "evalue": "name 'generate_env' is not defined",
     "output_type": "error",
     "traceback": [
      "\u001b[1;31m---------------------------------------------------------------------------\u001b[0m",
      "\u001b[1;31mNameError\u001b[0m                                 Traceback (most recent call last)",
      "\u001b[1;32mc:\\Users\\jonat\\Documents\\GitHub\\AEM685Project\\main.ipynb Cell 1\u001b[0m line \u001b[0;36m4\n\u001b[0;32m      <a href='vscode-notebook-cell:/c%3A/Users/jonat/Documents/GitHub/AEM685Project/main.ipynb#W0sZmlsZQ%3D%3D?line=0'>1</a>\u001b[0m \u001b[39mfrom\u001b[39;00m \u001b[39mgenerate_env\u001b[39;00m \u001b[39mimport\u001b[39;00m \u001b[39m*\u001b[39m\n\u001b[0;32m      <a href='vscode-notebook-cell:/c%3A/Users/jonat/Documents/GitHub/AEM685Project/main.ipynb#W0sZmlsZQ%3D%3D?line=1'>2</a>\u001b[0m \u001b[39mimport\u001b[39;00m \u001b[39mmatplotlib\u001b[39;00m\u001b[39m.\u001b[39;00m\u001b[39mpyplot\u001b[39;00m \u001b[39mas\u001b[39;00m \u001b[39mplt\u001b[39;00m\n\u001b[1;32m----> <a href='vscode-notebook-cell:/c%3A/Users/jonat/Documents/GitHub/AEM685Project/main.ipynb#W0sZmlsZQ%3D%3D?line=3'>4</a>\u001b[0m env, grid \u001b[39m=\u001b[39m generate_env(\u001b[39m'\u001b[39m\u001b[39mmap.osm\u001b[39m\u001b[39m'\u001b[39m)\n",
      "\u001b[1;31mNameError\u001b[0m: name 'generate_env' is not defined"
     ]
    }
   ],
   "source": [
    "from generate_env import *\n",
    "import matplotlib.pyplot as plt\n",
    "\n",
    "env, grid = generate_env('map.osm')\n"
   ]
  },
  {
   "cell_type": "code",
   "execution_count": 9,
   "metadata": {},
   "outputs": [
    {
     "name": "stdout",
     "output_type": "stream",
     "text": [
      "(33.20438, '-87.5720800', '33.2125600', '-87.5589600')\n"
     ]
    }
   ],
   "source": [
    "import xml.etree.ElementTree as ET\n",
    "\n",
    "def get_osm_bounds(osm_file_path):\n",
    "    # Parse the OSM XML file\n",
    "    tree = ET.parse(osm_file_path)\n",
    "    root = tree.getroot()\n",
    "\n",
    "    # Find the 'bounds' element\n",
    "    bounds = root.find('bounds')\n",
    "    if bounds is not None:\n",
    "        minlat = float(bounds.get('minlat'))\n",
    "        minlon = bounds.get('minlon')\n",
    "        maxlat = bounds.get('maxlat')\n",
    "        maxlon = bounds.get('maxlon')\n",
    "        return minlat, minlon, maxlat, maxlon\n",
    "    else:\n",
    "        return None\n",
    "\n",
    "osm_bounds = get_osm_bounds('map.osm')\n",
    "print(osm_bounds)\n"
   ]
  }
 ],
 "metadata": {
  "kernelspec": {
   "display_name": "humana-mays39",
   "language": "python",
   "name": "python3"
  },
  "language_info": {
   "codemirror_mode": {
    "name": "ipython",
    "version": 3
   },
   "file_extension": ".py",
   "mimetype": "text/x-python",
   "name": "python",
   "nbconvert_exporter": "python",
   "pygments_lexer": "ipython3",
   "version": "3.9.18"
  }
 },
 "nbformat": 4,
 "nbformat_minor": 2
}
